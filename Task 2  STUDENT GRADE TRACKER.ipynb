{
 "cells": [
  {
   "cell_type": "code",
   "execution_count": 1,
   "id": "2b99fb9e-ead4-4ba9-8f8e-4eb3d1f4bb72",
   "metadata": {},
   "outputs": [
    {
     "name": "stdout",
     "output_type": "stream",
     "text": [
      "Defaulting to user installation because normal site-packages is not writeable\n",
      "Requirement already satisfied: dash in c:\\users\\user\\appdata\\roaming\\python\\python311\\site-packages (2.17.1)\n",
      "Requirement already satisfied: Flask<3.1,>=1.0.4 in c:\\programdata\\anaconda3\\lib\\site-packages (from dash) (2.2.5)\n",
      "Requirement already satisfied: Werkzeug<3.1 in c:\\programdata\\anaconda3\\lib\\site-packages (from dash) (2.2.3)\n",
      "Requirement already satisfied: plotly>=5.0.0 in c:\\users\\user\\appdata\\roaming\\python\\python311\\site-packages (from dash) (5.13.0)\n",
      "Requirement already satisfied: dash-html-components==2.0.0 in c:\\users\\user\\appdata\\roaming\\python\\python311\\site-packages (from dash) (2.0.0)\n",
      "Requirement already satisfied: dash-core-components==2.0.0 in c:\\users\\user\\appdata\\roaming\\python\\python311\\site-packages (from dash) (2.0.0)\n",
      "Requirement already satisfied: dash-table==5.0.0 in c:\\users\\user\\appdata\\roaming\\python\\python311\\site-packages (from dash) (5.0.0)\n",
      "Requirement already satisfied: importlib-metadata in c:\\programdata\\anaconda3\\lib\\site-packages (from dash) (7.0.1)\n",
      "Requirement already satisfied: typing-extensions>=4.1.1 in c:\\users\\user\\appdata\\roaming\\python\\python311\\site-packages (from dash) (4.12.2)\n",
      "Requirement already satisfied: requests in c:\\programdata\\anaconda3\\lib\\site-packages (from dash) (2.31.0)\n",
      "Requirement already satisfied: retrying in c:\\users\\user\\appdata\\roaming\\python\\python311\\site-packages (from dash) (1.3.4)\n",
      "Requirement already satisfied: nest-asyncio in c:\\programdata\\anaconda3\\lib\\site-packages (from dash) (1.6.0)\n",
      "Requirement already satisfied: setuptools in c:\\programdata\\anaconda3\\lib\\site-packages (from dash) (68.2.2)\n",
      "Requirement already satisfied: Jinja2>=3.0 in c:\\programdata\\anaconda3\\lib\\site-packages (from Flask<3.1,>=1.0.4->dash) (3.1.3)\n",
      "Requirement already satisfied: itsdangerous>=2.0 in c:\\programdata\\anaconda3\\lib\\site-packages (from Flask<3.1,>=1.0.4->dash) (2.0.1)\n",
      "Requirement already satisfied: click>=8.0 in c:\\programdata\\anaconda3\\lib\\site-packages (from Flask<3.1,>=1.0.4->dash) (8.1.7)\n",
      "Requirement already satisfied: tenacity>=6.2.0 in c:\\programdata\\anaconda3\\lib\\site-packages (from plotly>=5.0.0->dash) (8.2.2)\n",
      "Requirement already satisfied: MarkupSafe>=2.1.1 in c:\\programdata\\anaconda3\\lib\\site-packages (from Werkzeug<3.1->dash) (2.1.3)\n",
      "Requirement already satisfied: zipp>=0.5 in c:\\programdata\\anaconda3\\lib\\site-packages (from importlib-metadata->dash) (3.17.0)\n",
      "Requirement already satisfied: charset-normalizer<4,>=2 in c:\\programdata\\anaconda3\\lib\\site-packages (from requests->dash) (2.0.4)\n",
      "Requirement already satisfied: idna<4,>=2.5 in c:\\programdata\\anaconda3\\lib\\site-packages (from requests->dash) (3.4)\n",
      "Requirement already satisfied: urllib3<3,>=1.21.1 in c:\\programdata\\anaconda3\\lib\\site-packages (from requests->dash) (2.0.7)\n",
      "Requirement already satisfied: certifi>=2017.4.17 in c:\\programdata\\anaconda3\\lib\\site-packages (from requests->dash) (2024.2.2)\n",
      "Requirement already satisfied: six>=1.7.0 in c:\\programdata\\anaconda3\\lib\\site-packages (from retrying->dash) (1.16.0)\n",
      "Requirement already satisfied: colorama in c:\\programdata\\anaconda3\\lib\\site-packages (from click>=8.0->Flask<3.1,>=1.0.4->dash) (0.4.6)\n"
     ]
    }
   ],
   "source": [
    "!pip install dash"
   ]
  },
  {
   "cell_type": "code",
   "execution_count": 2,
   "id": "4c93357c-ae2e-4570-88b7-b94b76473cb9",
   "metadata": {},
   "outputs": [
    {
     "name": "stdout",
     "output_type": "stream",
     "text": [
      "Defaulting to user installation because normal site-packages is not writeable\n",
      "Requirement already satisfied: dash_bootstrap_components in c:\\users\\user\\appdata\\roaming\\python\\python311\\site-packages (1.6.0)\n",
      "Requirement already satisfied: dash>=2.0.0 in c:\\users\\user\\appdata\\roaming\\python\\python311\\site-packages (from dash_bootstrap_components) (2.17.1)\n",
      "Requirement already satisfied: Flask<3.1,>=1.0.4 in c:\\programdata\\anaconda3\\lib\\site-packages (from dash>=2.0.0->dash_bootstrap_components) (2.2.5)\n",
      "Requirement already satisfied: Werkzeug<3.1 in c:\\programdata\\anaconda3\\lib\\site-packages (from dash>=2.0.0->dash_bootstrap_components) (2.2.3)\n",
      "Requirement already satisfied: plotly>=5.0.0 in c:\\users\\user\\appdata\\roaming\\python\\python311\\site-packages (from dash>=2.0.0->dash_bootstrap_components) (5.13.0)\n",
      "Requirement already satisfied: dash-html-components==2.0.0 in c:\\users\\user\\appdata\\roaming\\python\\python311\\site-packages (from dash>=2.0.0->dash_bootstrap_components) (2.0.0)\n",
      "Requirement already satisfied: dash-core-components==2.0.0 in c:\\users\\user\\appdata\\roaming\\python\\python311\\site-packages (from dash>=2.0.0->dash_bootstrap_components) (2.0.0)\n",
      "Requirement already satisfied: dash-table==5.0.0 in c:\\users\\user\\appdata\\roaming\\python\\python311\\site-packages (from dash>=2.0.0->dash_bootstrap_components) (5.0.0)\n",
      "Requirement already satisfied: importlib-metadata in c:\\programdata\\anaconda3\\lib\\site-packages (from dash>=2.0.0->dash_bootstrap_components) (7.0.1)\n",
      "Requirement already satisfied: typing-extensions>=4.1.1 in c:\\users\\user\\appdata\\roaming\\python\\python311\\site-packages (from dash>=2.0.0->dash_bootstrap_components) (4.12.2)\n",
      "Requirement already satisfied: requests in c:\\programdata\\anaconda3\\lib\\site-packages (from dash>=2.0.0->dash_bootstrap_components) (2.31.0)\n",
      "Requirement already satisfied: retrying in c:\\users\\user\\appdata\\roaming\\python\\python311\\site-packages (from dash>=2.0.0->dash_bootstrap_components) (1.3.4)\n",
      "Requirement already satisfied: nest-asyncio in c:\\programdata\\anaconda3\\lib\\site-packages (from dash>=2.0.0->dash_bootstrap_components) (1.6.0)\n",
      "Requirement already satisfied: setuptools in c:\\programdata\\anaconda3\\lib\\site-packages (from dash>=2.0.0->dash_bootstrap_components) (68.2.2)\n",
      "Requirement already satisfied: Jinja2>=3.0 in c:\\programdata\\anaconda3\\lib\\site-packages (from Flask<3.1,>=1.0.4->dash>=2.0.0->dash_bootstrap_components) (3.1.3)\n",
      "Requirement already satisfied: itsdangerous>=2.0 in c:\\programdata\\anaconda3\\lib\\site-packages (from Flask<3.1,>=1.0.4->dash>=2.0.0->dash_bootstrap_components) (2.0.1)\n",
      "Requirement already satisfied: click>=8.0 in c:\\programdata\\anaconda3\\lib\\site-packages (from Flask<3.1,>=1.0.4->dash>=2.0.0->dash_bootstrap_components) (8.1.7)\n",
      "Requirement already satisfied: tenacity>=6.2.0 in c:\\programdata\\anaconda3\\lib\\site-packages (from plotly>=5.0.0->dash>=2.0.0->dash_bootstrap_components) (8.2.2)\n",
      "Requirement already satisfied: MarkupSafe>=2.1.1 in c:\\programdata\\anaconda3\\lib\\site-packages (from Werkzeug<3.1->dash>=2.0.0->dash_bootstrap_components) (2.1.3)\n",
      "Requirement already satisfied: zipp>=0.5 in c:\\programdata\\anaconda3\\lib\\site-packages (from importlib-metadata->dash>=2.0.0->dash_bootstrap_components) (3.17.0)\n",
      "Requirement already satisfied: charset-normalizer<4,>=2 in c:\\programdata\\anaconda3\\lib\\site-packages (from requests->dash>=2.0.0->dash_bootstrap_components) (2.0.4)\n",
      "Requirement already satisfied: idna<4,>=2.5 in c:\\programdata\\anaconda3\\lib\\site-packages (from requests->dash>=2.0.0->dash_bootstrap_components) (3.4)\n",
      "Requirement already satisfied: urllib3<3,>=1.21.1 in c:\\programdata\\anaconda3\\lib\\site-packages (from requests->dash>=2.0.0->dash_bootstrap_components) (2.0.7)\n",
      "Requirement already satisfied: certifi>=2017.4.17 in c:\\programdata\\anaconda3\\lib\\site-packages (from requests->dash>=2.0.0->dash_bootstrap_components) (2024.2.2)\n",
      "Requirement already satisfied: six>=1.7.0 in c:\\programdata\\anaconda3\\lib\\site-packages (from retrying->dash>=2.0.0->dash_bootstrap_components) (1.16.0)\n",
      "Requirement already satisfied: colorama in c:\\programdata\\anaconda3\\lib\\site-packages (from click>=8.0->Flask<3.1,>=1.0.4->dash>=2.0.0->dash_bootstrap_components) (0.4.6)\n"
     ]
    }
   ],
   "source": [
    "!pip install dash_bootstrap_components"
   ]
  },
  {
   "cell_type": "code",
   "execution_count": 3,
   "id": "8a870e0f-0e2a-4cb6-9253-e3e721c1e0f1",
   "metadata": {},
   "outputs": [],
   "source": [
    "import numpy as np\n",
    "import pandas as pd"
   ]
  },
  {
   "cell_type": "code",
   "execution_count": 4,
   "id": "a8563668-fec3-4500-84d4-0a9a686c2a2c",
   "metadata": {},
   "outputs": [],
   "source": [
    "note_Math_dict = {'Mario' : 17, 'Luigi' : 10, 'wario' : 13, 'bowser' : 10.5, 'Princess' : 13.5}\n",
    "note_Math = pd.Series(note_Math_dict)"
   ]
  },
  {
   "cell_type": "code",
   "execution_count": 5,
   "id": "be2b22c6-accf-476b-a4d5-cdf3f0430eb3",
   "metadata": {},
   "outputs": [
    {
     "data": {
      "text/plain": [
       "{'Mario': 17, 'Luigi': 10, 'wario': 13, 'bowser': 10.5, 'Princess': 13.5}"
      ]
     },
     "execution_count": 5,
     "metadata": {},
     "output_type": "execute_result"
    }
   ],
   "source": [
    "note_Math_dict"
   ]
  },
  {
   "cell_type": "code",
   "execution_count": 6,
   "id": "d6f0c858-b960-49da-8ad2-c659e02ec979",
   "metadata": {},
   "outputs": [
    {
     "data": {
      "text/plain": [
       "Mario       17.0\n",
       "Luigi       10.0\n",
       "wario       13.0\n",
       "bowser      10.5\n",
       "Princess    13.5\n",
       "dtype: float64"
      ]
     },
     "execution_count": 6,
     "metadata": {},
     "output_type": "execute_result"
    }
   ],
   "source": [
    "note_Math"
   ]
  },
  {
   "cell_type": "code",
   "execution_count": 7,
   "id": "d5f0777d-2b82-4a63-982a-93ffcd4ffe97",
   "metadata": {},
   "outputs": [],
   "source": [
    "note_Physics_dict = {'Mario' : 15, 'Luigi' : 8, 'wario' : 10.5, 'bowser' : 17, 'Princess' : 13.5}\n",
    "note_Physics = pd.Series(note_Physics_dict)\n",
    "\n",
    "note_Computer_dict = {'Mario' : 12, 'Luigi' : 11, 'wario' : 8, 'bowser' : 14, 'Princess' : 17}\n",
    "note_Computer = pd.Series(note_Computer_dict)\n",
    "\n",
    "note_English_dict = {'Mario' : 18, 'Luigi' : 15, 'wario' : 10, 'bowser' : 13, 'Princess' : 19}\n",
    "note_English = pd.Series(note_English_dict)"
   ]
  },
  {
   "cell_type": "code",
   "execution_count": 8,
   "id": "b08518ce-f3c7-4825-9feb-ccf30fab5dd1",
   "metadata": {},
   "outputs": [],
   "source": [
    "notes_f = pd.DataFrame({'Math' : note_Math, 'Physics' : note_Physics, 'Computer' : note_Computer, 'English' : note_English})"
   ]
  },
  {
   "cell_type": "code",
   "execution_count": 9,
   "id": "4523a7b4-792e-4a49-9f6b-9162f2d94def",
   "metadata": {},
   "outputs": [
    {
     "data": {
      "text/plain": [
       "pandas.core.frame.DataFrame"
      ]
     },
     "execution_count": 9,
     "metadata": {},
     "output_type": "execute_result"
    }
   ],
   "source": [
    "type(notes_f)"
   ]
  },
  {
   "cell_type": "code",
   "execution_count": 10,
   "id": "4003abbd-4f91-49c5-9dc2-143f20faba0a",
   "metadata": {},
   "outputs": [
    {
     "data": {
      "text/html": [
       "<div>\n",
       "<style scoped>\n",
       "    .dataframe tbody tr th:only-of-type {\n",
       "        vertical-align: middle;\n",
       "    }\n",
       "\n",
       "    .dataframe tbody tr th {\n",
       "        vertical-align: top;\n",
       "    }\n",
       "\n",
       "    .dataframe thead th {\n",
       "        text-align: right;\n",
       "    }\n",
       "</style>\n",
       "<table border=\"1\" class=\"dataframe\">\n",
       "  <thead>\n",
       "    <tr style=\"text-align: right;\">\n",
       "      <th></th>\n",
       "      <th>Math</th>\n",
       "      <th>Physics</th>\n",
       "      <th>Computer</th>\n",
       "      <th>English</th>\n",
       "    </tr>\n",
       "  </thead>\n",
       "  <tbody>\n",
       "    <tr>\n",
       "      <th>Mario</th>\n",
       "      <td>17.0</td>\n",
       "      <td>15.0</td>\n",
       "      <td>12</td>\n",
       "      <td>18</td>\n",
       "    </tr>\n",
       "    <tr>\n",
       "      <th>Luigi</th>\n",
       "      <td>10.0</td>\n",
       "      <td>8.0</td>\n",
       "      <td>11</td>\n",
       "      <td>15</td>\n",
       "    </tr>\n",
       "    <tr>\n",
       "      <th>wario</th>\n",
       "      <td>13.0</td>\n",
       "      <td>10.5</td>\n",
       "      <td>8</td>\n",
       "      <td>10</td>\n",
       "    </tr>\n",
       "    <tr>\n",
       "      <th>bowser</th>\n",
       "      <td>10.5</td>\n",
       "      <td>17.0</td>\n",
       "      <td>14</td>\n",
       "      <td>13</td>\n",
       "    </tr>\n",
       "    <tr>\n",
       "      <th>Princess</th>\n",
       "      <td>13.5</td>\n",
       "      <td>13.5</td>\n",
       "      <td>17</td>\n",
       "      <td>19</td>\n",
       "    </tr>\n",
       "  </tbody>\n",
       "</table>\n",
       "</div>"
      ],
      "text/plain": [
       "          Math  Physics  Computer  English\n",
       "Mario     17.0     15.0        12       18\n",
       "Luigi     10.0      8.0        11       15\n",
       "wario     13.0     10.5         8       10\n",
       "bowser    10.5     17.0        14       13\n",
       "Princess  13.5     13.5        17       19"
      ]
     },
     "execution_count": 10,
     "metadata": {},
     "output_type": "execute_result"
    }
   ],
   "source": [
    "notes_f"
   ]
  },
  {
   "cell_type": "code",
   "execution_count": 11,
   "id": "6a9f58f6-659b-4349-afe6-ac78bdff5ba5",
   "metadata": {},
   "outputs": [],
   "source": [
    "coeficient = {'Math' : 4, 'Physics' : 3, 'Computer' : 1, 'English' : 1}"
   ]
  },
  {
   "cell_type": "code",
   "execution_count": 12,
   "id": "eb0d34f2-ec75-4f53-80ef-99e5765318d5",
   "metadata": {},
   "outputs": [
    {
     "data": {
      "text/plain": [
       "{'Math': 4, 'Physics': 3, 'Computer': 1, 'English': 1}"
      ]
     },
     "execution_count": 12,
     "metadata": {},
     "output_type": "execute_result"
    }
   ],
   "source": [
    "coeficient"
   ]
  },
  {
   "cell_type": "code",
   "execution_count": 13,
   "id": "499e9566-e6a7-4c49-a416-1f3ad90a7eb0",
   "metadata": {},
   "outputs": [
    {
     "name": "stdout",
     "output_type": "stream",
     "text": [
      "Index: Math, Valeur: 4\n",
      "Index: Physics, Valeur: 3\n",
      "Index: Computer, Valeur: 1\n",
      "Index: English, Valeur: 1\n"
     ]
    }
   ],
   "source": [
    "for index, value in coeficient.items():  \n",
    "    print(f\"Index: {index}, Valeur: {value}\") "
   ]
  },
  {
   "cell_type": "code",
   "execution_count": 14,
   "id": "79495d34-62ec-4ea8-b02e-bdd3b2ce53cf",
   "metadata": {},
   "outputs": [],
   "source": [
    "coeficient_Matiere = pd.Series(coeficient)"
   ]
  },
  {
   "cell_type": "code",
   "execution_count": 15,
   "id": "7bcd6ba6-a195-46c1-a321-ec9327e9dc14",
   "metadata": {},
   "outputs": [
    {
     "data": {
      "text/plain": [
       "Math        4\n",
       "Physics     3\n",
       "Computer    1\n",
       "English     1\n",
       "dtype: int64"
      ]
     },
     "execution_count": 15,
     "metadata": {},
     "output_type": "execute_result"
    }
   ],
   "source": [
    "coeficient_Matiere"
   ]
  },
  {
   "cell_type": "code",
   "execution_count": 16,
   "id": "c597ba23-db4f-4304-930b-7e1a1cfc3e4d",
   "metadata": {},
   "outputs": [
    {
     "name": "stdout",
     "output_type": "stream",
     "text": [
      "Index: Math, Valeur: 4\n",
      "Index: Physics, Valeur: 3\n",
      "Index: Computer, Valeur: 1\n",
      "Index: English, Valeur: 1\n"
     ]
    }
   ],
   "source": [
    "for index, value in coeficient_Matiere.items():  \n",
    "    print(f\"Index: {index}, Valeur: {value}\") "
   ]
  },
  {
   "cell_type": "code",
   "execution_count": 17,
   "id": "04ebc2a8-0582-49b5-8ff4-179fb628ee56",
   "metadata": {},
   "outputs": [],
   "source": [
    "def return_coeficient(matiere_) :\n",
    "    for index, value in coeficient_Matiere.items():\n",
    "        if index == matiere_ :\n",
    "            return value\n",
    "            break\n",
    "        else :\n",
    "            print(\"error\")"
   ]
  },
  {
   "cell_type": "code",
   "execution_count": 18,
   "id": "83c0ba47-eef1-4248-85cf-569c251be612",
   "metadata": {},
   "outputs": [
    {
     "data": {
      "text/plain": [
       "4"
      ]
     },
     "execution_count": 18,
     "metadata": {},
     "output_type": "execute_result"
    }
   ],
   "source": [
    "return_coeficient(\"Math\")"
   ]
  },
  {
   "cell_type": "code",
   "execution_count": 19,
   "id": "1f7e1a01-33e1-4cdf-b527-07e997031833",
   "metadata": {},
   "outputs": [
    {
     "data": {
      "text/plain": [
       "9"
      ]
     },
     "execution_count": 19,
     "metadata": {},
     "output_type": "execute_result"
    }
   ],
   "source": [
    "sum(coeficient_Matiere)"
   ]
  },
  {
   "cell_type": "code",
   "execution_count": 20,
   "id": "b99a383e-8cf7-4218-b384-5e6f17575bc6",
   "metadata": {},
   "outputs": [],
   "source": [
    "notes_f = notes_f.assign(moyenne=(notes_f * coeficient_Matiere).sum(axis=1) / coeficient_Matiere.sum()) "
   ]
  },
  {
   "cell_type": "code",
   "execution_count": 21,
   "id": "d981f972-b549-4596-83b6-4f9cf9740b96",
   "metadata": {},
   "outputs": [
    {
     "data": {
      "text/html": [
       "<div>\n",
       "<style scoped>\n",
       "    .dataframe tbody tr th:only-of-type {\n",
       "        vertical-align: middle;\n",
       "    }\n",
       "\n",
       "    .dataframe tbody tr th {\n",
       "        vertical-align: top;\n",
       "    }\n",
       "\n",
       "    .dataframe thead th {\n",
       "        text-align: right;\n",
       "    }\n",
       "</style>\n",
       "<table border=\"1\" class=\"dataframe\">\n",
       "  <thead>\n",
       "    <tr style=\"text-align: right;\">\n",
       "      <th></th>\n",
       "      <th>Math</th>\n",
       "      <th>Physics</th>\n",
       "      <th>Computer</th>\n",
       "      <th>English</th>\n",
       "      <th>moyenne</th>\n",
       "    </tr>\n",
       "  </thead>\n",
       "  <tbody>\n",
       "    <tr>\n",
       "      <th>Mario</th>\n",
       "      <td>17.0</td>\n",
       "      <td>15.0</td>\n",
       "      <td>12</td>\n",
       "      <td>18</td>\n",
       "      <td>15.888889</td>\n",
       "    </tr>\n",
       "    <tr>\n",
       "      <th>Luigi</th>\n",
       "      <td>10.0</td>\n",
       "      <td>8.0</td>\n",
       "      <td>11</td>\n",
       "      <td>15</td>\n",
       "      <td>10.000000</td>\n",
       "    </tr>\n",
       "    <tr>\n",
       "      <th>wario</th>\n",
       "      <td>13.0</td>\n",
       "      <td>10.5</td>\n",
       "      <td>8</td>\n",
       "      <td>10</td>\n",
       "      <td>11.277778</td>\n",
       "    </tr>\n",
       "    <tr>\n",
       "      <th>bowser</th>\n",
       "      <td>10.5</td>\n",
       "      <td>17.0</td>\n",
       "      <td>14</td>\n",
       "      <td>13</td>\n",
       "      <td>13.333333</td>\n",
       "    </tr>\n",
       "    <tr>\n",
       "      <th>Princess</th>\n",
       "      <td>13.5</td>\n",
       "      <td>13.5</td>\n",
       "      <td>17</td>\n",
       "      <td>19</td>\n",
       "      <td>14.500000</td>\n",
       "    </tr>\n",
       "  </tbody>\n",
       "</table>\n",
       "</div>"
      ],
      "text/plain": [
       "          Math  Physics  Computer  English    moyenne\n",
       "Mario     17.0     15.0        12       18  15.888889\n",
       "Luigi     10.0      8.0        11       15  10.000000\n",
       "wario     13.0     10.5         8       10  11.277778\n",
       "bowser    10.5     17.0        14       13  13.333333\n",
       "Princess  13.5     13.5        17       19  14.500000"
      ]
     },
     "execution_count": 21,
     "metadata": {},
     "output_type": "execute_result"
    }
   ],
   "source": [
    "notes_f"
   ]
  },
  {
   "cell_type": "code",
   "execution_count": 22,
   "id": "b8cafacd-5d9d-4dc7-8eed-89e509b7db52",
   "metadata": {},
   "outputs": [
    {
     "name": "stdout",
     "output_type": "stream",
     "text": [
      "          Math  Physics  Computer  English    moyenne\n",
      "Mario     17.0     15.0      12.0     18.0  15.888889\n",
      "Luigi     10.0      8.0      11.0     15.0  10.000000\n",
      "wario     13.0     10.5       8.0     10.0  11.277778\n",
      "bowser    10.5     17.0      14.0     13.0  13.333333\n",
      "Princess  13.5     13.5      17.0     19.0  14.500000\n",
      "kango     16.0     12.0      18.0      8.0  13.500000\n"
     ]
    }
   ],
   "source": [
    "# Added new line for 'kango' \n",
    "kango_scores = [16, 12, 18, 8]  # Scores for Math, Physics, Computer, English  \n",
    "kango_moyenne = sum(kango_scores) / len(kango_scores)  # Calcul de la moyenne  \n",
    "new_row = pd.Series(kango_scores + [kango_moyenne], index=notes_f.columns, name='kango')  \n",
    "\n",
    "# Use pd.concat to add the new line  \n",
    "notes_f = pd.concat([notes_f, new_row.to_frame().T])  \n",
    "\n",
    "print(notes_f)   "
   ]
  },
  {
   "cell_type": "code",
   "execution_count": 23,
   "id": "76778ddd-c473-4d79-815f-6d52a525c584",
   "metadata": {},
   "outputs": [
    {
     "data": {
      "text/html": [
       "<div>\n",
       "<style scoped>\n",
       "    .dataframe tbody tr th:only-of-type {\n",
       "        vertical-align: middle;\n",
       "    }\n",
       "\n",
       "    .dataframe tbody tr th {\n",
       "        vertical-align: top;\n",
       "    }\n",
       "\n",
       "    .dataframe thead th {\n",
       "        text-align: right;\n",
       "    }\n",
       "</style>\n",
       "<table border=\"1\" class=\"dataframe\">\n",
       "  <thead>\n",
       "    <tr style=\"text-align: right;\">\n",
       "      <th></th>\n",
       "      <th>Math</th>\n",
       "      <th>Physics</th>\n",
       "      <th>Computer</th>\n",
       "      <th>English</th>\n",
       "      <th>moyenne</th>\n",
       "    </tr>\n",
       "  </thead>\n",
       "  <tbody>\n",
       "    <tr>\n",
       "      <th>Mario</th>\n",
       "      <td>17.0</td>\n",
       "      <td>15.0</td>\n",
       "      <td>12.0</td>\n",
       "      <td>18.0</td>\n",
       "      <td>15.888889</td>\n",
       "    </tr>\n",
       "    <tr>\n",
       "      <th>Luigi</th>\n",
       "      <td>10.0</td>\n",
       "      <td>8.0</td>\n",
       "      <td>11.0</td>\n",
       "      <td>15.0</td>\n",
       "      <td>10.000000</td>\n",
       "    </tr>\n",
       "    <tr>\n",
       "      <th>wario</th>\n",
       "      <td>13.0</td>\n",
       "      <td>10.5</td>\n",
       "      <td>8.0</td>\n",
       "      <td>10.0</td>\n",
       "      <td>11.277778</td>\n",
       "    </tr>\n",
       "    <tr>\n",
       "      <th>bowser</th>\n",
       "      <td>10.5</td>\n",
       "      <td>17.0</td>\n",
       "      <td>14.0</td>\n",
       "      <td>13.0</td>\n",
       "      <td>13.333333</td>\n",
       "    </tr>\n",
       "    <tr>\n",
       "      <th>Princess</th>\n",
       "      <td>13.5</td>\n",
       "      <td>13.5</td>\n",
       "      <td>17.0</td>\n",
       "      <td>19.0</td>\n",
       "      <td>14.500000</td>\n",
       "    </tr>\n",
       "    <tr>\n",
       "      <th>kango</th>\n",
       "      <td>16.0</td>\n",
       "      <td>12.0</td>\n",
       "      <td>18.0</td>\n",
       "      <td>8.0</td>\n",
       "      <td>13.500000</td>\n",
       "    </tr>\n",
       "  </tbody>\n",
       "</table>\n",
       "</div>"
      ],
      "text/plain": [
       "          Math  Physics  Computer  English    moyenne\n",
       "Mario     17.0     15.0      12.0     18.0  15.888889\n",
       "Luigi     10.0      8.0      11.0     15.0  10.000000\n",
       "wario     13.0     10.5       8.0     10.0  11.277778\n",
       "bowser    10.5     17.0      14.0     13.0  13.333333\n",
       "Princess  13.5     13.5      17.0     19.0  14.500000\n",
       "kango     16.0     12.0      18.0      8.0  13.500000"
      ]
     },
     "execution_count": 23,
     "metadata": {},
     "output_type": "execute_result"
    }
   ],
   "source": [
    "notes_f"
   ]
  },
  {
   "cell_type": "code",
   "execution_count": 24,
   "id": "35207801-f286-48b1-a403-ec328f7d9469",
   "metadata": {},
   "outputs": [
    {
     "data": {
      "text/html": [
       "\n",
       "        <iframe\n",
       "            width=\"100%\"\n",
       "            height=\"650\"\n",
       "            src=\"http://127.0.0.1:8050/\"\n",
       "            frameborder=\"0\"\n",
       "            allowfullscreen\n",
       "            \n",
       "        ></iframe>\n",
       "        "
      ],
      "text/plain": [
       "<IPython.lib.display.IFrame at 0x19ef3fe65d0>"
      ]
     },
     "metadata": {},
     "output_type": "display_data"
    }
   ],
   "source": [
    "import dash  \n",
    "from dash import html, dcc, callback, Input, Output, ctx  \n",
    "import pandas as pd  \n",
    "\n",
    "  \n",
    "\n",
    "# Initialize the Dash application  \n",
    "app = dash.Dash(__name__)  \n",
    "\n",
    "app.layout = html.Div([  \n",
    "    html.H1(\"Displaying student grades\"),  \n",
    "\n",
    "    # Form to search for a student  \n",
    "    html.Div([  \n",
    "        html.H3(\"Find a student:\"),  \n",
    "        dcc.Input(id='student-input', type='text', placeholder='Student Name'),  \n",
    "        html.Button('To research', id='search-button', n_clicks=0)  \n",
    "    ]),  \n",
    "    html.Div(id='search-result'),  \n",
    "\n",
    "    # Form to change a student's grades  \n",
    "    html.Div([  \n",
    "        html.H3(\"Edit a student's grades:\"),  \n",
    "        dcc.Input(id='update-student', type='text', placeholder='Student Name'),  \n",
    "        dcc.Input(id='math-update', type='number', placeholder='Math Notes'),  \n",
    "        dcc.Input(id='phy-update', type='number', placeholder='Physics Notes'),  \n",
    "        dcc.Input(id='info-update', type='number', placeholder='Computer Notes'),  \n",
    "        dcc.Input(id='eng-update', type='number', placeholder='Notes English'),  \n",
    "        html.Button('To update', id='update-button', n_clicks=0)  \n",
    "    ]),  \n",
    "    html.Div(id='update-result'),  \n",
    "\n",
    "    # Displaying the DataFrame  \n",
    "    dcc.Graph(  \n",
    "        id='table',  \n",
    "    )  \n",
    "])  \n",
    "\n",
    "# Combined callback to search and update a student's grades  \n",
    "@callback(  \n",
    "    Output('search-result', 'children'),  \n",
    "    Output('update-result', 'children'),  \n",
    "    Output('table', 'figure'),  \n",
    "    Input('search-button', 'n_clicks'),  \n",
    "    Input('update-button', 'n_clicks'),  \n",
    "    Input('student-input', 'value'),  \n",
    "    Input('update-student', 'value'),  \n",
    "    Input('math-update', 'value'),  \n",
    "    Input('phy-update', 'value'),  \n",
    "    Input('info-update', 'value'),  \n",
    "    Input('eng-update', 'value')  \n",
    ")  \n",
    "def manage_student(n_search, n_update, student_name_search, student_name_update, math, phy, info, eng):  \n",
    "    search_result = \"\"  \n",
    "    update_result = \"\"  \n",
    "\n",
    "    # Check which button was clicked  \n",
    "    if ctx.triggered_id == 'search-button' and student_name_search:  \n",
    "        if student_name_search in notes_f.index:  \n",
    "            student_info = notes_f.loc[student_name_search].to_dict()  \n",
    "            search_result = f\"Information for {student_name_search}: {student_info}\"  \n",
    "        else:  \n",
    "            search_result = f\"No students found with the name {student_name_search}.\"  \n",
    "\n",
    "    elif ctx.triggered_id == 'update-button' and student_name_update:  \n",
    "        if student_name_update in notes_f.index:  \n",
    "            if math is not None:  \n",
    "                notes_f.at[student_name_update, 'Math'] = math  \n",
    "            if phy is not None:  \n",
    "                notes_f.at[student_name_update, 'Physics'] = phy  \n",
    "            if info is not None:  \n",
    "                notes_f.at[student_name_update, 'Computer'] = info  \n",
    "            if eng is not None:  \n",
    "                notes_f.at[student_name_update, 'English'] = eng  \n",
    "            notes_f['moyenne'] = notes_f.mean(axis=1)  \n",
    "            update_result = f\"Updated notes for {student_name_update}.\"  \n",
    "        else:  \n",
    "            update_result = f\"No students found with the name {student_name_update}.\"  \n",
    "\n",
    "    # Update the table with current data  \n",
    "    return search_result, update_result, create_table_figure(notes_f)  \n",
    "\n",
    "def create_table_figure(dataframe):  \n",
    "    return {  \n",
    "        'data': [{  \n",
    "            'type': 'table',   \n",
    "            'header': {  \n",
    "                'values': ['Étudiant'] + list(dataframe.columns),  # Inclure les noms de colonnes  \n",
    "                'fill': {'color': 'blue'},  \n",
    "                'font': {'color': 'white'},  \n",
    "                'align': 'center'  \n",
    "            },  \n",
    "            'cells': {  \n",
    "                'values': [dataframe.index.tolist()] + [dataframe[col].tolist() for col in dataframe.columns],  \n",
    "                'fill': {'color': ['lightgrey', 'lightblue'] * (len(dataframe) // 2 + 1)},  \n",
    "                'align': 'center'  \n",
    "            }  \n",
    "        }],  \n",
    "        'layout': {'width': 600}  \n",
    "    }  \n",
    "\n",
    "if __name__ == '__main__':  \n",
    "    app.run_server(debug=True)"
   ]
  }
 ],
 "metadata": {
  "kernelspec": {
   "display_name": "Python 3 (ipykernel)",
   "language": "python",
   "name": "python3"
  },
  "language_info": {
   "codemirror_mode": {
    "name": "ipython",
    "version": 3
   },
   "file_extension": ".py",
   "mimetype": "text/x-python",
   "name": "python",
   "nbconvert_exporter": "python",
   "pygments_lexer": "ipython3",
   "version": "3.11.7"
  }
 },
 "nbformat": 4,
 "nbformat_minor": 5
}

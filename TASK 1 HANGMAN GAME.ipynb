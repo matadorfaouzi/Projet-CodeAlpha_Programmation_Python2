{
 "cells": [
  {
   "cell_type": "code",
   "execution_count": 1,
   "id": "19654626-1f2a-41bd-bcec-cbd154e57d2b",
   "metadata": {},
   "outputs": [
    {
     "name": "stdout",
     "output_type": "stream",
     "text": [
      "Defaulting to user installation because normal site-packages is not writeable\n",
      "Requirement already satisfied: dash in c:\\users\\user\\appdata\\roaming\\python\\python311\\site-packages (2.17.1)\n",
      "Requirement already satisfied: Flask<3.1,>=1.0.4 in c:\\programdata\\anaconda3\\lib\\site-packages (from dash) (2.2.5)\n",
      "Requirement already satisfied: Werkzeug<3.1 in c:\\programdata\\anaconda3\\lib\\site-packages (from dash) (2.2.3)\n",
      "Requirement already satisfied: plotly>=5.0.0 in c:\\users\\user\\appdata\\roaming\\python\\python311\\site-packages (from dash) (5.13.0)\n",
      "Requirement already satisfied: dash-html-components==2.0.0 in c:\\users\\user\\appdata\\roaming\\python\\python311\\site-packages (from dash) (2.0.0)\n",
      "Requirement already satisfied: dash-core-components==2.0.0 in c:\\users\\user\\appdata\\roaming\\python\\python311\\site-packages (from dash) (2.0.0)\n",
      "Requirement already satisfied: dash-table==5.0.0 in c:\\users\\user\\appdata\\roaming\\python\\python311\\site-packages (from dash) (5.0.0)\n",
      "Requirement already satisfied: importlib-metadata in c:\\programdata\\anaconda3\\lib\\site-packages (from dash) (7.0.1)\n",
      "Requirement already satisfied: typing-extensions>=4.1.1 in c:\\users\\user\\appdata\\roaming\\python\\python311\\site-packages (from dash) (4.12.2)\n",
      "Requirement already satisfied: requests in c:\\programdata\\anaconda3\\lib\\site-packages (from dash) (2.31.0)\n",
      "Requirement already satisfied: retrying in c:\\users\\user\\appdata\\roaming\\python\\python311\\site-packages (from dash) (1.3.4)\n",
      "Requirement already satisfied: nest-asyncio in c:\\programdata\\anaconda3\\lib\\site-packages (from dash) (1.6.0)\n",
      "Requirement already satisfied: setuptools in c:\\programdata\\anaconda3\\lib\\site-packages (from dash) (68.2.2)\n",
      "Requirement already satisfied: Jinja2>=3.0 in c:\\programdata\\anaconda3\\lib\\site-packages (from Flask<3.1,>=1.0.4->dash) (3.1.3)\n",
      "Requirement already satisfied: itsdangerous>=2.0 in c:\\programdata\\anaconda3\\lib\\site-packages (from Flask<3.1,>=1.0.4->dash) (2.0.1)\n",
      "Requirement already satisfied: click>=8.0 in c:\\programdata\\anaconda3\\lib\\site-packages (from Flask<3.1,>=1.0.4->dash) (8.1.7)\n",
      "Requirement already satisfied: tenacity>=6.2.0 in c:\\programdata\\anaconda3\\lib\\site-packages (from plotly>=5.0.0->dash) (8.2.2)\n",
      "Requirement already satisfied: MarkupSafe>=2.1.1 in c:\\programdata\\anaconda3\\lib\\site-packages (from Werkzeug<3.1->dash) (2.1.3)\n",
      "Requirement already satisfied: zipp>=0.5 in c:\\programdata\\anaconda3\\lib\\site-packages (from importlib-metadata->dash) (3.17.0)\n",
      "Requirement already satisfied: charset-normalizer<4,>=2 in c:\\programdata\\anaconda3\\lib\\site-packages (from requests->dash) (2.0.4)\n",
      "Requirement already satisfied: idna<4,>=2.5 in c:\\programdata\\anaconda3\\lib\\site-packages (from requests->dash) (3.4)\n",
      "Requirement already satisfied: urllib3<3,>=1.21.1 in c:\\programdata\\anaconda3\\lib\\site-packages (from requests->dash) (2.0.7)\n",
      "Requirement already satisfied: certifi>=2017.4.17 in c:\\programdata\\anaconda3\\lib\\site-packages (from requests->dash) (2024.2.2)\n",
      "Requirement already satisfied: six>=1.7.0 in c:\\programdata\\anaconda3\\lib\\site-packages (from retrying->dash) (1.16.0)\n",
      "Requirement already satisfied: colorama in c:\\programdata\\anaconda3\\lib\\site-packages (from click>=8.0->Flask<3.1,>=1.0.4->dash) (0.4.6)\n"
     ]
    }
   ],
   "source": [
    "!pip install dash"
   ]
  },
  {
   "cell_type": "code",
   "execution_count": 2,
   "id": "2cb8e495-d489-4d4a-bddd-a1c4cb010d1e",
   "metadata": {},
   "outputs": [
    {
     "name": "stdout",
     "output_type": "stream",
     "text": [
      "Defaulting to user installation because normal site-packages is not writeable\n",
      "Requirement already satisfied: dash_bootstrap_components in c:\\users\\user\\appdata\\roaming\\python\\python311\\site-packages (1.6.0)\n",
      "Requirement already satisfied: dash>=2.0.0 in c:\\users\\user\\appdata\\roaming\\python\\python311\\site-packages (from dash_bootstrap_components) (2.17.1)\n",
      "Requirement already satisfied: Flask<3.1,>=1.0.4 in c:\\programdata\\anaconda3\\lib\\site-packages (from dash>=2.0.0->dash_bootstrap_components) (2.2.5)\n",
      "Requirement already satisfied: Werkzeug<3.1 in c:\\programdata\\anaconda3\\lib\\site-packages (from dash>=2.0.0->dash_bootstrap_components) (2.2.3)\n",
      "Requirement already satisfied: plotly>=5.0.0 in c:\\users\\user\\appdata\\roaming\\python\\python311\\site-packages (from dash>=2.0.0->dash_bootstrap_components) (5.13.0)\n",
      "Requirement already satisfied: dash-html-components==2.0.0 in c:\\users\\user\\appdata\\roaming\\python\\python311\\site-packages (from dash>=2.0.0->dash_bootstrap_components) (2.0.0)\n",
      "Requirement already satisfied: dash-core-components==2.0.0 in c:\\users\\user\\appdata\\roaming\\python\\python311\\site-packages (from dash>=2.0.0->dash_bootstrap_components) (2.0.0)\n",
      "Requirement already satisfied: dash-table==5.0.0 in c:\\users\\user\\appdata\\roaming\\python\\python311\\site-packages (from dash>=2.0.0->dash_bootstrap_components) (5.0.0)\n",
      "Requirement already satisfied: importlib-metadata in c:\\programdata\\anaconda3\\lib\\site-packages (from dash>=2.0.0->dash_bootstrap_components) (7.0.1)\n",
      "Requirement already satisfied: typing-extensions>=4.1.1 in c:\\users\\user\\appdata\\roaming\\python\\python311\\site-packages (from dash>=2.0.0->dash_bootstrap_components) (4.12.2)\n",
      "Requirement already satisfied: requests in c:\\programdata\\anaconda3\\lib\\site-packages (from dash>=2.0.0->dash_bootstrap_components) (2.31.0)\n",
      "Requirement already satisfied: retrying in c:\\users\\user\\appdata\\roaming\\python\\python311\\site-packages (from dash>=2.0.0->dash_bootstrap_components) (1.3.4)\n",
      "Requirement already satisfied: nest-asyncio in c:\\programdata\\anaconda3\\lib\\site-packages (from dash>=2.0.0->dash_bootstrap_components) (1.6.0)\n",
      "Requirement already satisfied: setuptools in c:\\programdata\\anaconda3\\lib\\site-packages (from dash>=2.0.0->dash_bootstrap_components) (68.2.2)\n",
      "Requirement already satisfied: Jinja2>=3.0 in c:\\programdata\\anaconda3\\lib\\site-packages (from Flask<3.1,>=1.0.4->dash>=2.0.0->dash_bootstrap_components) (3.1.3)\n",
      "Requirement already satisfied: itsdangerous>=2.0 in c:\\programdata\\anaconda3\\lib\\site-packages (from Flask<3.1,>=1.0.4->dash>=2.0.0->dash_bootstrap_components) (2.0.1)\n",
      "Requirement already satisfied: click>=8.0 in c:\\programdata\\anaconda3\\lib\\site-packages (from Flask<3.1,>=1.0.4->dash>=2.0.0->dash_bootstrap_components) (8.1.7)\n",
      "Requirement already satisfied: tenacity>=6.2.0 in c:\\programdata\\anaconda3\\lib\\site-packages (from plotly>=5.0.0->dash>=2.0.0->dash_bootstrap_components) (8.2.2)\n",
      "Requirement already satisfied: MarkupSafe>=2.1.1 in c:\\programdata\\anaconda3\\lib\\site-packages (from Werkzeug<3.1->dash>=2.0.0->dash_bootstrap_components) (2.1.3)\n",
      "Requirement already satisfied: zipp>=0.5 in c:\\programdata\\anaconda3\\lib\\site-packages (from importlib-metadata->dash>=2.0.0->dash_bootstrap_components) (3.17.0)\n",
      "Requirement already satisfied: charset-normalizer<4,>=2 in c:\\programdata\\anaconda3\\lib\\site-packages (from requests->dash>=2.0.0->dash_bootstrap_components) (2.0.4)\n",
      "Requirement already satisfied: idna<4,>=2.5 in c:\\programdata\\anaconda3\\lib\\site-packages (from requests->dash>=2.0.0->dash_bootstrap_components) (3.4)\n",
      "Requirement already satisfied: urllib3<3,>=1.21.1 in c:\\programdata\\anaconda3\\lib\\site-packages (from requests->dash>=2.0.0->dash_bootstrap_components) (2.0.7)\n",
      "Requirement already satisfied: certifi>=2017.4.17 in c:\\programdata\\anaconda3\\lib\\site-packages (from requests->dash>=2.0.0->dash_bootstrap_components) (2024.2.2)\n",
      "Requirement already satisfied: six>=1.7.0 in c:\\programdata\\anaconda3\\lib\\site-packages (from retrying->dash>=2.0.0->dash_bootstrap_components) (1.16.0)\n",
      "Requirement already satisfied: colorama in c:\\programdata\\anaconda3\\lib\\site-packages (from click>=8.0->Flask<3.1,>=1.0.4->dash>=2.0.0->dash_bootstrap_components) (0.4.6)\n"
     ]
    }
   ],
   "source": [
    "!pip install dash_bootstrap_components"
   ]
  },
  {
   "cell_type": "code",
   "execution_count": 3,
   "id": "16bff997-279b-45a7-b4c0-86b7bd713012",
   "metadata": {},
   "outputs": [
    {
     "data": {
      "text/html": [
       "\n",
       "        <iframe\n",
       "            width=\"100%\"\n",
       "            height=\"650\"\n",
       "            src=\"http://127.0.0.1:8050/\"\n",
       "            frameborder=\"0\"\n",
       "            allowfullscreen\n",
       "            \n",
       "        ></iframe>\n",
       "        "
      ],
      "text/plain": [
       "<IPython.lib.display.IFrame at 0x1e528327590>"
      ]
     },
     "metadata": {},
     "output_type": "display_data"
    }
   ],
   "source": [
    "import dash  \n",
    "from dash import html, dcc, callback, Input, Output  \n",
    "import random  \n",
    "\n",
    "# List of words for the game  \n",
    "words = [\"python\", \"dash\", \"hangman\", \"programming\", \"development\"]  \n",
    "chosen_word = random.choice(words)  \n",
    "guessed_letters = []  \n",
    "attempts = 6  \n",
    "\n",
    "# Initialize the Dash application  \n",
    "app = dash.Dash(__name__)  \n",
    "\n",
    "app.layout = html.Div([  \n",
    "    html.H1(\"Hangman Game\"),  \n",
    "    html.Div(id='word-display', style={'fontSize': 24}),  \n",
    "    html.Div(f\"Attempts remaining: {attempts}\", id='attempts-display', style={'fontSize': 20}),  \n",
    "    \n",
    "    # Form to guess a letter  \n",
    "    dcc.Input(id='letter-input', type='text', maxLength=1, placeholder='Guess a letter'),  \n",
    "    html.Button('Guess', id='guess-button', n_clicks=0),  \n",
    "    \n",
    "    html.Div(id='result-display', style={'fontSize': 20}),  \n",
    "    html.Div(id='game-status', style={'fontSize': 20}),  \n",
    "])  \n",
    "\n",
    "@callback(  \n",
    "    Output('word-display', 'children'),  \n",
    "    Output('attempts-display', 'children'),  \n",
    "    Output('result-display', 'children'),  \n",
    "    Output('game-status', 'children'),  \n",
    "    Input('guess-button', 'n_clicks'),  \n",
    "    Input('letter-input', 'value'),  \n",
    ")  \n",
    "def update_game(n_clicks, letter):  \n",
    "    global chosen_word, guessed_letters, attempts  \n",
    "\n",
    "    if n_clicks > 0 and letter:  \n",
    "        letter = letter.lower()  \n",
    "        if letter in guessed_letters:  \n",
    "            return display_word(), f\"Attempts remaining: {attempts}\", \"You have already guessed that letter.\", \"\"  \n",
    "\n",
    "        guessed_letters.append(letter)  \n",
    "\n",
    "        if letter not in chosen_word:  \n",
    "            attempts -= 1  \n",
    "\n",
    "    # Check if the game is over  \n",
    "    if attempts <= 0:  \n",
    "        return display_word(), \"\", \"\", f\"You lost! The word was: {chosen_word}\"  \n",
    "    elif all(l in guessed_letters for l in chosen_word):  \n",
    "        return display_word(), \"\", \"\", f\"Congratulations! You won! The word was: {chosen_word}\"  \n",
    "\n",
    "    return display_word(), f\"Attempts remaining: {attempts}\", \"\", \"\"  \n",
    "\n",
    "def display_word():  \n",
    "    return ' '.join([letter if letter in guessed_letters else '_' for letter in chosen_word])  \n",
    "\n",
    "if __name__ == '__main__':  \n",
    "    app.run_server(debug=True)"
   ]
  }
 ],
 "metadata": {
  "kernelspec": {
   "display_name": "Python 3 (ipykernel)",
   "language": "python",
   "name": "python3"
  },
  "language_info": {
   "codemirror_mode": {
    "name": "ipython",
    "version": 3
   },
   "file_extension": ".py",
   "mimetype": "text/x-python",
   "name": "python",
   "nbconvert_exporter": "python",
   "pygments_lexer": "ipython3",
   "version": "3.11.7"
  }
 },
 "nbformat": 4,
 "nbformat_minor": 5
}
